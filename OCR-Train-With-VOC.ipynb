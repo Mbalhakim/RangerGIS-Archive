{
 "cells": [
  {
   "cell_type": "code",
   "execution_count": 2,
   "metadata": {},
   "outputs": [
    {
     "name": "stdout",
     "output_type": "stream",
     "text": [
      "Annotations saved to annotations.csv\n"
     ]
    }
   ],
   "source": [
    "import os\n",
    "import json\n",
    "import pandas as pd\n",
    "\n",
    "# Path to the VoTT JSON files and output CSV\n",
    "annotations_folder = \"data/ImageTrainVoc\"  # Replace with your VoTT JSON folder path\n",
    "output_csv = \"annotations.csv\"\n",
    "\n",
    "# List to store all extracted annotations\n",
    "data = []\n",
    "\n",
    "# Loop through all JSON files in the folder\n",
    "for json_file in os.listdir(annotations_folder):\n",
    "    if json_file.endswith(\".json\"):\n",
    "        with open(os.path.join(annotations_folder, json_file), 'r') as file:\n",
    "            annotation = json.load(file)\n",
    "            \n",
    "            # Get the image details\n",
    "            image_name = annotation[\"asset\"][\"name\"]\n",
    "            image_path = annotation[\"asset\"][\"path\"]\n",
    "            \n",
    "            # Loop through each region (bounding box)\n",
    "            for region in annotation[\"regions\"]:\n",
    "                label = region[\"tags\"][0]  # Assuming a single tag per region\n",
    "                bbox = region[\"boundingBox\"]\n",
    "                \n",
    "                # Extract bounding box coordinates\n",
    "                x_min = bbox[\"left\"]\n",
    "                y_min = bbox[\"top\"]\n",
    "                x_max = bbox[\"left\"] + bbox[\"width\"]\n",
    "                y_max = bbox[\"top\"] + bbox[\"height\"]\n",
    "                \n",
    "                # Append the data\n",
    "                data.append([image_name, image_path, x_min, y_min, x_max, y_max, label])\n",
    "\n",
    "# Convert the data to a pandas DataFrame\n",
    "columns = [\"image_name\", \"image_path\", \"x_min\", \"y_min\", \"x_max\", \"y_max\", \"label\"]\n",
    "df = pd.DataFrame(data, columns=columns)\n",
    "\n",
    "# Save to CSV\n",
    "df.to_csv(output_csv, index=False)\n",
    "print(f\"Annotations saved to {output_csv}\")\n"
   ]
  }
 ],
 "metadata": {
  "kernelspec": {
   "display_name": "Python 3",
   "language": "python",
   "name": "python3"
  },
  "language_info": {
   "codemirror_mode": {
    "name": "ipython",
    "version": 3
   },
   "file_extension": ".py",
   "mimetype": "text/x-python",
   "name": "python",
   "nbconvert_exporter": "python",
   "pygments_lexer": "ipython3",
   "version": "3.12.4"
  }
 },
 "nbformat": 4,
 "nbformat_minor": 2
}
