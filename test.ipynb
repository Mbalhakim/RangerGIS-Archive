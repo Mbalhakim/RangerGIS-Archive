{
 "cells": [
  {
   "cell_type": "code",
   "execution_count": 1,
   "metadata": {},
   "outputs": [],
   "source": [
    "import PyPDF2\n",
    "from pdf2image import convert_from_path\n",
    "import pytesseract\n",
    "import os"
   ]
  },
  {
   "cell_type": "code",
   "execution_count": 3,
   "metadata": {},
   "outputs": [],
   "source": [
    "# Set the OCR language to Dutch\n",
    "pytesseract.pytesseract.tesseract_cmd = r'C:\\Program Files\\Tesseract-OCR\\tesseract.exe'  # Update if Tesseract is installed in a different location\n",
    "ocr_language = 'nld'  # Language code for Dutch"
   ]
  },
  {
   "cell_type": "code",
   "execution_count": 4,
   "metadata": {},
   "outputs": [],
   "source": [
    "def extract_text_from_pdf(pdf_path):\n",
    "    # Extract text from the PDF\n",
    "    text_data = \"\"\n",
    "    \n",
    "    # Using PyPDF2 for text extraction\n",
    "    with open(pdf_path, 'rb') as file:\n",
    "        reader = PyPDF2.PdfReader(file)\n",
    "        for page in reader.pages:\n",
    "            text_data += page.extract_text()\n",
    "\n",
    "    # Convert PDF to images for OCR\n",
    "    images = convert_from_path(pdf_path)\n",
    "    for page_number, image in enumerate(images, start=1):\n",
    "        ocr_text = pytesseract.image_to_string(image, lang=ocr_language)\n",
    "        text_data += f\"\\n[OCR Page {page_number}]\\n{ocr_text}\"\n",
    "\n",
    "    return text_data"
   ]
  },
  {
   "cell_type": "code",
   "execution_count": 6,
   "metadata": {},
   "outputs": [
    {
     "name": "stdout",
     "output_type": "stream",
     "text": [
      "Text extracted and saved to extracted_text.txt\n"
     ]
    }
   ],
   "source": [
    "# Path to your PDF file\n",
    "pdf_path = \"data/raw/PC.pdf\"  # Replace with the correct path to your PDF\n",
    "\n",
    "# Extract text from PDF\n",
    "extracted_text = extract_text_from_pdf(pdf_path)\n",
    "\n",
    "# Save the text to a file\n",
    "output_text_path = \"extracted_text.txt\"\n",
    "with open(output_text_path, 'w', encoding='utf-8') as text_file:\n",
    "    text_file.write(extracted_text)\n",
    "\n",
    "print(f\"Text extracted and saved to {output_text_path}\")"
   ]
  }
 ],
 "metadata": {
  "kernelspec": {
   "display_name": "Python 3",
   "language": "python",
   "name": "python3"
  },
  "language_info": {
   "codemirror_mode": {
    "name": "ipython",
    "version": 3
   },
   "file_extension": ".py",
   "mimetype": "text/x-python",
   "name": "python",
   "nbconvert_exporter": "python",
   "pygments_lexer": "ipython3",
   "version": "3.12.4"
  }
 },
 "nbformat": 4,
 "nbformat_minor": 2
}
