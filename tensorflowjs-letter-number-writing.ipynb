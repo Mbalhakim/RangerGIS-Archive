{
 "cells": [
  {
   "cell_type": "markdown",
   "metadata": {},
   "source": [
    "# Detecting capital letters and numbers"
   ]
  },
  {
   "cell_type": "code",
   "execution_count": 1,
   "metadata": {
    "execution": {
     "iopub.execute_input": "2024-01-24T11:04:22.747373Z",
     "iopub.status.busy": "2024-01-24T11:04:22.746632Z",
     "iopub.status.idle": "2024-01-24T11:04:23.554621Z",
     "shell.execute_reply": "2024-01-24T11:04:23.553754Z",
     "shell.execute_reply.started": "2024-01-24T11:04:22.747338Z"
    },
    "trusted": true
   },
   "outputs": [
    {
     "name": "stdout",
     "output_type": "stream",
     "text": [
      "2.18.0\n"
     ]
    },
    {
     "name": "stderr",
     "output_type": "stream",
     "text": [
      "C:\\Users\\Hussain\\AppData\\Local\\Packages\\PythonSoftwareFoundation.Python.3.12_qbz5n2kfra8p0\\LocalCache\\local-packages\\Python312\\site-packages\\tensorflowjs\\read_weights.py:28: FutureWarning: In the future `np.object` will be defined as the corresponding NumPy scalar.\n",
      "  np.uint8, np.uint16, np.object, np.bool]\n"
     ]
    },
    {
     "ename": "AttributeError",
     "evalue": "module 'numpy' has no attribute 'object'.\n`np.object` was a deprecated alias for the builtin `object`. To avoid this error in existing code, use `object` by itself. Doing this will not modify any behavior and is safe. \nThe aliases was originally deprecated in NumPy 1.20; for more details and guidance see the original release note at:\n    https://numpy.org/devdocs/release/1.20.0-notes.html#deprecations",
     "output_type": "error",
     "traceback": [
      "\u001b[1;31m---------------------------------------------------------------------------\u001b[0m",
      "\u001b[1;31mAttributeError\u001b[0m                            Traceback (most recent call last)",
      "Cell \u001b[1;32mIn[1], line 8\u001b[0m\n\u001b[0;32m      6\u001b[0m \u001b[38;5;28;01mimport\u001b[39;00m\u001b[38;5;250m \u001b[39m\u001b[38;5;21;01mtensorflow\u001b[39;00m\u001b[38;5;250m \u001b[39m\u001b[38;5;28;01mas\u001b[39;00m\u001b[38;5;250m \u001b[39m\u001b[38;5;21;01mtf\u001b[39;00m\n\u001b[0;32m      7\u001b[0m \u001b[38;5;28mprint\u001b[39m(tf\u001b[38;5;241m.\u001b[39mversion\u001b[38;5;241m.\u001b[39mVERSION)\n\u001b[1;32m----> 8\u001b[0m \u001b[38;5;28;01mimport\u001b[39;00m\u001b[38;5;250m \u001b[39m\u001b[38;5;21;01mtensorflowjs\u001b[39;00m\u001b[38;5;250m \u001b[39m\u001b[38;5;28;01mas\u001b[39;00m\u001b[38;5;250m \u001b[39m\u001b[38;5;21;01mtfjs\u001b[39;00m\n\u001b[0;32m     10\u001b[0m \u001b[38;5;28;01mimport\u001b[39;00m\u001b[38;5;250m \u001b[39m\u001b[38;5;21;01mmath\u001b[39;00m\n\u001b[0;32m     11\u001b[0m \u001b[38;5;28;01mimport\u001b[39;00m\u001b[38;5;250m \u001b[39m\u001b[38;5;21;01mos\u001b[39;00m\n",
      "File \u001b[1;32m~\\AppData\\Local\\Packages\\PythonSoftwareFoundation.Python.3.12_qbz5n2kfra8p0\\LocalCache\\local-packages\\Python312\\site-packages\\tensorflowjs\\__init__.py:21\u001b[0m\n\u001b[0;32m     18\u001b[0m \u001b[38;5;28;01mfrom\u001b[39;00m\u001b[38;5;250m \u001b[39m\u001b[38;5;21;01m__future__\u001b[39;00m\u001b[38;5;250m \u001b[39m\u001b[38;5;28;01mimport\u001b[39;00m print_function\n\u001b[0;32m     20\u001b[0m \u001b[38;5;66;03m# pylint: disable=unused-imports\u001b[39;00m\n\u001b[1;32m---> 21\u001b[0m \u001b[38;5;28;01mfrom\u001b[39;00m\u001b[38;5;250m \u001b[39m\u001b[38;5;21;01mtensorflowjs\u001b[39;00m\u001b[38;5;250m \u001b[39m\u001b[38;5;28;01mimport\u001b[39;00m converters\n\u001b[0;32m     22\u001b[0m \u001b[38;5;28;01mfrom\u001b[39;00m\u001b[38;5;250m \u001b[39m\u001b[38;5;21;01mtensorflowjs\u001b[39;00m\u001b[38;5;250m \u001b[39m\u001b[38;5;28;01mimport\u001b[39;00m quantization\n\u001b[0;32m     23\u001b[0m \u001b[38;5;28;01mfrom\u001b[39;00m\u001b[38;5;250m \u001b[39m\u001b[38;5;21;01mtensorflowjs\u001b[39;00m\u001b[38;5;250m \u001b[39m\u001b[38;5;28;01mimport\u001b[39;00m version\n",
      "File \u001b[1;32m~\\AppData\\Local\\Packages\\PythonSoftwareFoundation.Python.3.12_qbz5n2kfra8p0\\LocalCache\\local-packages\\Python312\\site-packages\\tensorflowjs\\converters\\__init__.py:21\u001b[0m\n\u001b[0;32m     18\u001b[0m \u001b[38;5;28;01mfrom\u001b[39;00m\u001b[38;5;250m \u001b[39m\u001b[38;5;21;01m__future__\u001b[39;00m\u001b[38;5;250m \u001b[39m\u001b[38;5;28;01mimport\u001b[39;00m print_function\n\u001b[0;32m     20\u001b[0m \u001b[38;5;66;03m# pylint: disable=unused-imports,line-too-long\u001b[39;00m\n\u001b[1;32m---> 21\u001b[0m \u001b[38;5;28;01mfrom\u001b[39;00m\u001b[38;5;250m \u001b[39m\u001b[38;5;21;01mtensorflowjs\u001b[39;00m\u001b[38;5;21;01m.\u001b[39;00m\u001b[38;5;21;01mconverters\u001b[39;00m\u001b[38;5;21;01m.\u001b[39;00m\u001b[38;5;21;01mconverter\u001b[39;00m\u001b[38;5;250m \u001b[39m\u001b[38;5;28;01mimport\u001b[39;00m convert\n\u001b[0;32m     22\u001b[0m \u001b[38;5;28;01mfrom\u001b[39;00m\u001b[38;5;250m \u001b[39m\u001b[38;5;21;01mtensorflowjs\u001b[39;00m\u001b[38;5;21;01m.\u001b[39;00m\u001b[38;5;21;01mconverters\u001b[39;00m\u001b[38;5;21;01m.\u001b[39;00m\u001b[38;5;21;01mkeras_h5_conversion\u001b[39;00m\u001b[38;5;250m \u001b[39m\u001b[38;5;28;01mimport\u001b[39;00m save_keras_model\n\u001b[0;32m     23\u001b[0m \u001b[38;5;28;01mfrom\u001b[39;00m\u001b[38;5;250m \u001b[39m\u001b[38;5;21;01mtensorflowjs\u001b[39;00m\u001b[38;5;21;01m.\u001b[39;00m\u001b[38;5;21;01mconverters\u001b[39;00m\u001b[38;5;21;01m.\u001b[39;00m\u001b[38;5;21;01mkeras_tfjs_loader\u001b[39;00m\u001b[38;5;250m \u001b[39m\u001b[38;5;28;01mimport\u001b[39;00m deserialize_keras_model\n",
      "File \u001b[1;32m~\\AppData\\Local\\Packages\\PythonSoftwareFoundation.Python.3.12_qbz5n2kfra8p0\\LocalCache\\local-packages\\Python312\\site-packages\\tensorflowjs\\converters\\converter.py:35\u001b[0m\n\u001b[0;32m     33\u001b[0m \u001b[38;5;28;01mfrom\u001b[39;00m\u001b[38;5;250m \u001b[39m\u001b[38;5;21;01mtensorflowjs\u001b[39;00m\u001b[38;5;250m \u001b[39m\u001b[38;5;28;01mimport\u001b[39;00m version\n\u001b[0;32m     34\u001b[0m \u001b[38;5;28;01mfrom\u001b[39;00m\u001b[38;5;250m \u001b[39m\u001b[38;5;21;01mtensorflowjs\u001b[39;00m\u001b[38;5;21;01m.\u001b[39;00m\u001b[38;5;21;01mconverters\u001b[39;00m\u001b[38;5;250m \u001b[39m\u001b[38;5;28;01mimport\u001b[39;00m common\n\u001b[1;32m---> 35\u001b[0m \u001b[38;5;28;01mfrom\u001b[39;00m\u001b[38;5;250m \u001b[39m\u001b[38;5;21;01mtensorflowjs\u001b[39;00m\u001b[38;5;21;01m.\u001b[39;00m\u001b[38;5;21;01mconverters\u001b[39;00m\u001b[38;5;250m \u001b[39m\u001b[38;5;28;01mimport\u001b[39;00m keras_h5_conversion \u001b[38;5;28;01mas\u001b[39;00m conversion\n\u001b[0;32m     36\u001b[0m \u001b[38;5;28;01mfrom\u001b[39;00m\u001b[38;5;250m \u001b[39m\u001b[38;5;21;01mtensorflowjs\u001b[39;00m\u001b[38;5;21;01m.\u001b[39;00m\u001b[38;5;21;01mconverters\u001b[39;00m\u001b[38;5;250m \u001b[39m\u001b[38;5;28;01mimport\u001b[39;00m keras_tfjs_loader\n\u001b[0;32m     37\u001b[0m \u001b[38;5;28;01mfrom\u001b[39;00m\u001b[38;5;250m \u001b[39m\u001b[38;5;21;01mtensorflowjs\u001b[39;00m\u001b[38;5;21;01m.\u001b[39;00m\u001b[38;5;21;01mconverters\u001b[39;00m\u001b[38;5;250m \u001b[39m\u001b[38;5;28;01mimport\u001b[39;00m tf_saved_model_conversion_v2\n",
      "File \u001b[1;32m~\\AppData\\Local\\Packages\\PythonSoftwareFoundation.Python.3.12_qbz5n2kfra8p0\\LocalCache\\local-packages\\Python312\\site-packages\\tensorflowjs\\converters\\keras_h5_conversion.py:33\u001b[0m\n\u001b[0;32m     30\u001b[0m \u001b[38;5;28;01mimport\u001b[39;00m\u001b[38;5;250m \u001b[39m\u001b[38;5;21;01mh5py\u001b[39;00m\n\u001b[0;32m     31\u001b[0m \u001b[38;5;28;01mimport\u001b[39;00m\u001b[38;5;250m \u001b[39m\u001b[38;5;21;01mnumpy\u001b[39;00m\u001b[38;5;250m \u001b[39m\u001b[38;5;28;01mas\u001b[39;00m\u001b[38;5;250m \u001b[39m\u001b[38;5;21;01mnp\u001b[39;00m\n\u001b[1;32m---> 33\u001b[0m \u001b[38;5;28;01mfrom\u001b[39;00m\u001b[38;5;250m \u001b[39m\u001b[38;5;21;01mtensorflowjs\u001b[39;00m\u001b[38;5;250m \u001b[39m\u001b[38;5;28;01mimport\u001b[39;00m write_weights  \u001b[38;5;66;03m# pylint: disable=import-error\u001b[39;00m\n\u001b[0;32m     34\u001b[0m \u001b[38;5;28;01mfrom\u001b[39;00m\u001b[38;5;250m \u001b[39m\u001b[38;5;21;01mtensorflowjs\u001b[39;00m\u001b[38;5;21;01m.\u001b[39;00m\u001b[38;5;21;01mconverters\u001b[39;00m\u001b[38;5;250m \u001b[39m\u001b[38;5;28;01mimport\u001b[39;00m common\n\u001b[0;32m     37\u001b[0m \u001b[38;5;28;01mdef\u001b[39;00m\u001b[38;5;250m \u001b[39m\u001b[38;5;21mnormalize_weight_name\u001b[39m(weight_name):\n",
      "File \u001b[1;32m~\\AppData\\Local\\Packages\\PythonSoftwareFoundation.Python.3.12_qbz5n2kfra8p0\\LocalCache\\local-packages\\Python312\\site-packages\\tensorflowjs\\write_weights.py:25\u001b[0m\n\u001b[0;32m     22\u001b[0m \u001b[38;5;28;01mimport\u001b[39;00m\u001b[38;5;250m \u001b[39m\u001b[38;5;21;01mtensorflow\u001b[39;00m\u001b[38;5;250m \u001b[39m\u001b[38;5;28;01mas\u001b[39;00m\u001b[38;5;250m \u001b[39m\u001b[38;5;21;01mtf\u001b[39;00m\n\u001b[0;32m     24\u001b[0m \u001b[38;5;28;01mfrom\u001b[39;00m\u001b[38;5;250m \u001b[39m\u001b[38;5;21;01mtensorflowjs\u001b[39;00m\u001b[38;5;250m \u001b[39m\u001b[38;5;28;01mimport\u001b[39;00m quantization\n\u001b[1;32m---> 25\u001b[0m \u001b[38;5;28;01mfrom\u001b[39;00m\u001b[38;5;250m \u001b[39m\u001b[38;5;21;01mtensorflowjs\u001b[39;00m\u001b[38;5;250m \u001b[39m\u001b[38;5;28;01mimport\u001b[39;00m read_weights\n\u001b[0;32m     27\u001b[0m _OUTPUT_DTYPES \u001b[38;5;241m=\u001b[39m [np\u001b[38;5;241m.\u001b[39mfloat16, np\u001b[38;5;241m.\u001b[39mfloat32, np\u001b[38;5;241m.\u001b[39mint32, np\u001b[38;5;241m.\u001b[39mcomplex64,\n\u001b[0;32m     28\u001b[0m                   np\u001b[38;5;241m.\u001b[39muint8, np\u001b[38;5;241m.\u001b[39muint16, np\u001b[38;5;241m.\u001b[39mbool, np\u001b[38;5;241m.\u001b[39mobject]\n\u001b[0;32m     29\u001b[0m _AUTO_DTYPE_CONVERSION \u001b[38;5;241m=\u001b[39m {\n\u001b[0;32m     30\u001b[0m     np\u001b[38;5;241m.\u001b[39mdtype(np\u001b[38;5;241m.\u001b[39mfloat16): np\u001b[38;5;241m.\u001b[39mfloat32,\n\u001b[0;32m     31\u001b[0m     np\u001b[38;5;241m.\u001b[39mdtype(np\u001b[38;5;241m.\u001b[39mfloat64): np\u001b[38;5;241m.\u001b[39mfloat32,\n\u001b[0;32m     32\u001b[0m     np\u001b[38;5;241m.\u001b[39mdtype(np\u001b[38;5;241m.\u001b[39mint64): np\u001b[38;5;241m.\u001b[39mint32,\n\u001b[0;32m     33\u001b[0m     np\u001b[38;5;241m.\u001b[39mdtype(np\u001b[38;5;241m.\u001b[39mcomplex128): np\u001b[38;5;241m.\u001b[39mcomplex64}\n",
      "File \u001b[1;32m~\\AppData\\Local\\Packages\\PythonSoftwareFoundation.Python.3.12_qbz5n2kfra8p0\\LocalCache\\local-packages\\Python312\\site-packages\\tensorflowjs\\read_weights.py:28\u001b[0m\n\u001b[0;32m     24\u001b[0m \u001b[38;5;28;01mimport\u001b[39;00m\u001b[38;5;250m \u001b[39m\u001b[38;5;21;01mnumpy\u001b[39;00m\u001b[38;5;250m \u001b[39m\u001b[38;5;28;01mas\u001b[39;00m\u001b[38;5;250m \u001b[39m\u001b[38;5;21;01mnp\u001b[39;00m\n\u001b[0;32m     25\u001b[0m \u001b[38;5;28;01mfrom\u001b[39;00m\u001b[38;5;250m \u001b[39m\u001b[38;5;21;01mtensorflowjs\u001b[39;00m\u001b[38;5;250m \u001b[39m\u001b[38;5;28;01mimport\u001b[39;00m quantization\n\u001b[0;32m     27\u001b[0m _INPUT_DTYPES \u001b[38;5;241m=\u001b[39m [np\u001b[38;5;241m.\u001b[39mfloat16, np\u001b[38;5;241m.\u001b[39mfloat32, np\u001b[38;5;241m.\u001b[39mint32, np\u001b[38;5;241m.\u001b[39mcomplex64,\n\u001b[1;32m---> 28\u001b[0m                  np\u001b[38;5;241m.\u001b[39muint8, np\u001b[38;5;241m.\u001b[39muint16, \u001b[43mnp\u001b[49m\u001b[38;5;241;43m.\u001b[39;49m\u001b[43mobject\u001b[49m, np\u001b[38;5;241m.\u001b[39mbool]\n\u001b[0;32m     30\u001b[0m \u001b[38;5;66;03m# Number of bytes used to encode the length of a string in a string tensor.\u001b[39;00m\n\u001b[0;32m     31\u001b[0m STRING_LENGTH_NUM_BYTES \u001b[38;5;241m=\u001b[39m \u001b[38;5;241m4\u001b[39m\n",
      "File \u001b[1;32m~\\AppData\\Local\\Packages\\PythonSoftwareFoundation.Python.3.12_qbz5n2kfra8p0\\LocalCache\\local-packages\\Python312\\site-packages\\numpy\\__init__.py:408\u001b[0m, in \u001b[0;36m__getattr__\u001b[1;34m(attr)\u001b[0m\n\u001b[0;32m    403\u001b[0m     warnings\u001b[38;5;241m.\u001b[39mwarn(\n\u001b[0;32m    404\u001b[0m         \u001b[38;5;124mf\u001b[39m\u001b[38;5;124m\"\u001b[39m\u001b[38;5;124mIn the future `np.\u001b[39m\u001b[38;5;132;01m{\u001b[39;00mattr\u001b[38;5;132;01m}\u001b[39;00m\u001b[38;5;124m` will be defined as the \u001b[39m\u001b[38;5;124m\"\u001b[39m\n\u001b[0;32m    405\u001b[0m         \u001b[38;5;124m\"\u001b[39m\u001b[38;5;124mcorresponding NumPy scalar.\u001b[39m\u001b[38;5;124m\"\u001b[39m, \u001b[38;5;167;01mFutureWarning\u001b[39;00m, stacklevel\u001b[38;5;241m=\u001b[39m\u001b[38;5;241m2\u001b[39m)\n\u001b[0;32m    407\u001b[0m \u001b[38;5;28;01mif\u001b[39;00m attr \u001b[38;5;129;01min\u001b[39;00m __former_attrs__:\n\u001b[1;32m--> 408\u001b[0m     \u001b[38;5;28;01mraise\u001b[39;00m \u001b[38;5;167;01mAttributeError\u001b[39;00m(__former_attrs__[attr])\n\u001b[0;32m    410\u001b[0m \u001b[38;5;28;01mif\u001b[39;00m attr \u001b[38;5;129;01min\u001b[39;00m __expired_attributes__:\n\u001b[0;32m    411\u001b[0m     \u001b[38;5;28;01mraise\u001b[39;00m \u001b[38;5;167;01mAttributeError\u001b[39;00m(\n\u001b[0;32m    412\u001b[0m         \u001b[38;5;124mf\u001b[39m\u001b[38;5;124m\"\u001b[39m\u001b[38;5;124m`np.\u001b[39m\u001b[38;5;132;01m{\u001b[39;00mattr\u001b[38;5;132;01m}\u001b[39;00m\u001b[38;5;124m` was removed in the NumPy 2.0 release. \u001b[39m\u001b[38;5;124m\"\u001b[39m\n\u001b[0;32m    413\u001b[0m         \u001b[38;5;124mf\u001b[39m\u001b[38;5;124m\"\u001b[39m\u001b[38;5;132;01m{\u001b[39;00m__expired_attributes__[attr]\u001b[38;5;132;01m}\u001b[39;00m\u001b[38;5;124m\"\u001b[39m\n\u001b[0;32m    414\u001b[0m     )\n",
      "\u001b[1;31mAttributeError\u001b[0m: module 'numpy' has no attribute 'object'.\n`np.object` was a deprecated alias for the builtin `object`. To avoid this error in existing code, use `object` by itself. Doing this will not modify any behavior and is safe. \nThe aliases was originally deprecated in NumPy 1.20; for more details and guidance see the original release note at:\n    https://numpy.org/devdocs/release/1.20.0-notes.html#deprecations"
     ]
    }
   ],
   "source": [
    "import pandas as pd\n",
    "import numpy as np\n",
    "\n",
    "import matplotlib.pyplot as plt\n",
    "\n",
    "import tensorflow as tf\n",
    "print(tf.version.VERSION)\n",
    "import tensorflowjs as tfjs\n",
    "\n",
    "import math\n",
    "import os"
   ]
  },
  {
   "cell_type": "markdown",
   "metadata": {},
   "source": [
    "## Subfunctions"
   ]
  },
  {
   "cell_type": "code",
   "execution_count": 2,
   "metadata": {
    "execution": {
     "iopub.execute_input": "2024-01-24T09:55:48.842644Z",
     "iopub.status.busy": "2024-01-24T09:55:48.841893Z",
     "iopub.status.idle": "2024-01-24T09:55:48.850904Z",
     "shell.execute_reply": "2024-01-24T09:55:48.849697Z",
     "shell.execute_reply.started": "2024-01-24T09:55:48.842599Z"
    },
    "trusted": true
   },
   "outputs": [],
   "source": [
    "# Need to know the start-stop index\n",
    "def get_start_stop_index(Y):\n",
    "    from collections import Counter\n",
    "    c = Counter(Y)\n",
    "    \n",
    "    class_num_list = list(c.keys())\n",
    "    class_num = len(class_num_list)\n",
    "    print('class_num: ', class_num)\n",
    "    \n",
    "    st = [0]\n",
    "    stop = []\n",
    "    for i, val in enumerate(range(min(class_num_list), max(class_num_list)+1, 1)):\n",
    "        if i > 0:\n",
    "            st.append(stop[i-1]+1)\n",
    "        stop.append((st[i] + c[val]) - 1)\n",
    "        # print('i:', i, ', st: ', st[i], ', stop: ', stop[i])\n",
    "    print('st: ', st)\n",
    "    print('stop: ', stop)\n",
    "    \n",
    "    return st, stop, class_num"
   ]
  },
  {
   "cell_type": "code",
   "execution_count": 3,
   "metadata": {
    "execution": {
     "iopub.execute_input": "2024-01-24T09:55:49.352952Z",
     "iopub.status.busy": "2024-01-24T09:55:49.352600Z",
     "iopub.status.idle": "2024-01-24T09:55:49.362736Z",
     "shell.execute_reply": "2024-01-24T09:55:49.361519Z",
     "shell.execute_reply.started": "2024-01-24T09:55:49.352926Z"
    },
    "trusted": true
   },
   "outputs": [],
   "source": [
    "def select_first_num_of_sequentiallysorted_images(first_num, st, X, Y, offset):\n",
    "    \n",
    "    # Start from a certain offset from the first value of a certain class\n",
    "    st_mod = [i+offset for i in st]\n",
    "    \n",
    "    # Select first first_num=1000, from an offset, for each number\n",
    "    stop_mod = [i+first_num+offset for i in st]\n",
    "\n",
    "    print('st_mod: ', st_mod)\n",
    "    print('stop_mod: ', stop_mod)\n",
    "    \n",
    "    X_len = len(np.array(X).shape)\n",
    "    if X_len == 3:\n",
    "        X_shape = \"2d_image\"\n",
    "    else:\n",
    "        X_shape = \"1d_vec\"\n",
    "    \n",
    "    X_selected = []\n",
    "    y_selected = []\n",
    "\n",
    "    for i, st_val in enumerate(st_mod):\n",
    "        for j in range(st_val, stop_mod[i], 1):\n",
    "            \n",
    "            if X_shape == \"2d_image\":\n",
    "                # if X is already shape (-1, 28, 28)\n",
    "                X_selected.append(X[j])\n",
    "            else:\n",
    "                # if X is shape (1, 784)\n",
    "                X_selected.append(X.iloc[j,0:784].values.reshape(28,28))\n",
    "                \n",
    "            y_selected.append(Y[j])\n",
    "            \n",
    "    # Verify shape\n",
    "    X_temp = np.array(X_selected)\n",
    "    y_temp = np.array(y_selected)\n",
    "\n",
    "    print('X_selected.shape: ', X_temp.shape)\n",
    "    print('y_selected.shape: ', y_temp.shape)\n",
    "\n",
    "    return X_selected, y_selected"
   ]
  },
  {
   "cell_type": "code",
   "execution_count": 4,
   "metadata": {
    "execution": {
     "iopub.execute_input": "2024-01-24T11:03:17.270080Z",
     "iopub.status.busy": "2024-01-24T11:03:17.269392Z",
     "iopub.status.idle": "2024-01-24T11:03:17.279975Z",
     "shell.execute_reply": "2024-01-24T11:03:17.278967Z",
     "shell.execute_reply.started": "2024-01-24T11:03:17.270045Z"
    },
    "trusted": true
   },
   "outputs": [],
   "source": [
    "def plotting_training_results(history):\n",
    "    \n",
    "    acc = history.history['accuracy']\n",
    "    val_acc = history.history['val_accuracy']\n",
    "\n",
    "    loss = history.history['loss']\n",
    "    val_loss = history.history['val_loss']\n",
    "\n",
    "    fig, (ax0, ax1) = plt.subplots(nrows=2, ncols=1, figsize = (8, 8))\n",
    "\n",
    "    ax0.plot(acc, label='Training Accuracy')\n",
    "    ax0.plot(val_acc, label='Validation Accuracy')\n",
    "    ax0.legend(loc='lower right')\n",
    "    ax0.set_ylabel('Accuracy')\n",
    "    ax0.set_ylim([0, 1])\n",
    "    ax0.set_title(f'Training and Validation Accuracy: train={np.max(acc)}, val={np.max(val_acc)}')\n",
    "\n",
    "    ax1.plot(loss, label='Training Loss')\n",
    "    ax1.plot(val_loss, label='Validation Loss')\n",
    "    ax1.legend(loc='upper right')\n",
    "    ax1.set_ylabel('Loss/Cross Entropy')\n",
    "    ax1.set_ylim([0, max(loss)])\n",
    "    ax1.set_title(f'Training and Validation Loss: train={np.min(loss)}, val={np.min(val_loss)}')\n",
    "    ax1.set_xlabel('epoch')\n",
    "\n",
    "    plt.legend(loc='best')\n",
    "    plt.tight_layout()\n",
    "    plt.show()\n",
    "\n",
    "    fig.savefig('/kaggle/working/accuracy_loss_results.jpg')"
   ]
  },
  {
   "cell_type": "markdown",
   "metadata": {},
   "source": [
    "## Load numbers data"
   ]
  },
  {
   "cell_type": "code",
   "execution_count": 5,
   "metadata": {
    "execution": {
     "iopub.execute_input": "2024-01-24T09:55:50.907418Z",
     "iopub.status.busy": "2024-01-24T09:55:50.907035Z",
     "iopub.status.idle": "2024-01-24T09:55:51.336283Z",
     "shell.execute_reply": "2024-01-24T09:55:51.335324Z",
     "shell.execute_reply.started": "2024-01-24T09:55:50.907390Z"
    },
    "trusted": true
   },
   "outputs": [],
   "source": [
    "# Loading the dataset using Tensorflow enterprise version 2.2.0 or higher\n",
    "# (x_train, y_train), (x_test, y_test) = tf.keras.datasets.load_data()\n",
    "\n",
    "# Kaggle does not use enterprise version, it uses the regular version up-to-date (2.13.0).\n",
    "# So load the dataset using keras, if one is not using Tensorflow enterprise.\n",
    "\n",
    "from keras.datasets import mnist\n",
    "(train_images, train_labels), (test_images, test_labels) = mnist.load_data()"
   ]
  },
  {
   "cell_type": "code",
   "execution_count": 6,
   "metadata": {
    "execution": {
     "iopub.execute_input": "2024-01-24T09:55:54.413763Z",
     "iopub.status.busy": "2024-01-24T09:55:54.413383Z",
     "iopub.status.idle": "2024-01-24T09:55:54.489831Z",
     "shell.execute_reply": "2024-01-24T09:55:54.488748Z",
     "shell.execute_reply.started": "2024-01-24T09:55:54.413734Z"
    },
    "trusted": true
   },
   "outputs": [],
   "source": [
    "# Sort dataset by label number\n",
    "ind = np.argsort(train_labels)\n",
    "train_images_sortedbylet = [train_images[i] for i in ind]\n",
    "train_labels_sortedbylet = [train_labels[i] for i in ind]\n",
    "\n",
    "ind = np.argsort(test_labels)\n",
    "test_images_sortedbylet = [test_images[i] for i in ind]\n",
    "test_labels_sortedbylet = [test_labels[i] for i in ind]"
   ]
  },
  {
   "cell_type": "code",
   "execution_count": 7,
   "metadata": {
    "execution": {
     "iopub.execute_input": "2024-01-24T09:55:55.383552Z",
     "iopub.status.busy": "2024-01-24T09:55:55.382758Z",
     "iopub.status.idle": "2024-01-24T09:55:55.458171Z",
     "shell.execute_reply": "2024-01-24T09:55:55.457149Z",
     "shell.execute_reply.started": "2024-01-24T09:55:55.383522Z"
    },
    "trusted": true
   },
   "outputs": [
    {
     "name": "stdout",
     "output_type": "stream",
     "text": [
      "train_images_sortedbylet.shape:  (60000, 28, 28)\n",
      "train_labels_sortedbylet.shape:  (60000,)\n",
      "test_images_sortedbylet.shape:  (10000, 28, 28)\n",
      "test_labels_sortedbylet.shape:  (10000,)\n"
     ]
    }
   ],
   "source": [
    "# View the shape of the data\n",
    "print('train_images_sortedbylet.shape: ', np.array(train_images_sortedbylet).shape)\n",
    "print('train_labels_sortedbylet.shape: ', np.array(train_labels_sortedbylet).shape)\n",
    "print('test_images_sortedbylet.shape: ', np.array(test_images_sortedbylet).shape)\n",
    "print('test_labels_sortedbylet.shape: ', np.array(test_labels_sortedbylet).shape)"
   ]
  },
  {
   "cell_type": "code",
   "execution_count": 8,
   "metadata": {
    "execution": {
     "iopub.execute_input": "2024-01-24T09:55:56.972345Z",
     "iopub.status.busy": "2024-01-24T09:55:56.971434Z",
     "iopub.status.idle": "2024-01-24T09:55:56.999903Z",
     "shell.execute_reply": "2024-01-24T09:55:56.998796Z",
     "shell.execute_reply.started": "2024-01-24T09:55:56.972298Z"
    },
    "trusted": true
   },
   "outputs": [
    {
     "name": "stdout",
     "output_type": "stream",
     "text": [
      "class_num:  10\n",
      "st:  [0, 5923, 12665, 18623, 24754, 30596, 36017, 41935, 48200, 54051]\n",
      "stop:  [5922, 12664, 18622, 24753, 30595, 36016, 41934, 48199, 54050, 59999]\n",
      "class_num:  10\n",
      "st:  [0, 980, 2115, 3147, 4157, 5139, 6031, 6989, 8017, 8991]\n",
      "stop:  [979, 2114, 3146, 4156, 5138, 6030, 6988, 8016, 8990, 9999]\n"
     ]
    }
   ],
   "source": [
    "st_train, stop_train, class_num = get_start_stop_index(train_labels_sortedbylet)\n",
    "st_test, stop_test, class_num = get_start_stop_index(test_labels_sortedbylet)"
   ]
  },
  {
   "cell_type": "code",
   "execution_count": 9,
   "metadata": {
    "execution": {
     "iopub.execute_input": "2024-01-24T09:55:57.438373Z",
     "iopub.status.busy": "2024-01-24T09:55:57.437973Z",
     "iopub.status.idle": "2024-01-24T09:55:58.124169Z",
     "shell.execute_reply": "2024-01-24T09:55:58.123207Z",
     "shell.execute_reply.started": "2024-01-24T09:55:57.438343Z"
    },
    "trusted": true
   },
   "outputs": [
    {
     "data": {
      "image/png": "[encoded data removed]",
      "text/plain": [
       "<Figure size 800x800 with 10 Axes>"
      ]
     },
     "metadata": {},
     "output_type": "display_data"
    }
   ],
   "source": [
    "# Verify if mapping of images and labels are correct\n",
    "fig, axx = plt.subplots(nrows=1, ncols=class_num, figsize=(8,8))\n",
    "\n",
    "for i in range(class_num):\n",
    "    axx[i].imshow(train_images_sortedbylet[st_train[i]])\n",
    "    axx[i].axis('off')\n",
    "\n",
    "    axx[i].set_title(f\"label={train_labels_sortedbylet[st_train[i]]}\", size=9)\n",
    "plt.show()"
   ]
  },
  {
   "cell_type": "code",
   "execution_count": 10,
   "metadata": {
    "execution": {
     "iopub.execute_input": "2024-01-24T09:56:00.382296Z",
     "iopub.status.busy": "2024-01-24T09:56:00.381807Z",
     "iopub.status.idle": "2024-01-24T09:56:00.471252Z",
     "shell.execute_reply": "2024-01-24T09:56:00.470044Z",
     "shell.execute_reply.started": "2024-01-24T09:56:00.382242Z"
    },
    "trusted": true
   },
   "outputs": [
    {
     "name": "stdout",
     "output_type": "stream",
     "text": [
      "st_mod:  [0, 5923, 12665, 18623, 24754, 30596, 36017, 41935, 48200, 54051]\n",
      "stop_mod:  [1000, 6923, 13665, 19623, 25754, 31596, 37017, 42935, 49200, 55051]\n",
      "X_selected.shape:  (10000, 28, 28)\n",
      "y_selected.shape:  (10000,)\n",
      "st_mod:  [0, 980, 2115, 3147, 4157, 5139, 6031, 6989, 8017, 8991]\n",
      "stop_mod:  [500, 1480, 2615, 3647, 4657, 5639, 6531, 7489, 8517, 9491]\n",
      "X_selected.shape:  (5000, 28, 28)\n",
      "y_selected.shape:  (5000,)\n"
     ]
    }
   ],
   "source": [
    "# Select first 1000 of train data for each class_number\n",
    "offset = 0\n",
    "X_train_selected_num, y_train_selected_num = select_first_num_of_sequentiallysorted_images(1000, st_train, \n",
    "                                                                                   train_images_sortedbylet, \n",
    "                                                                                   train_labels_sortedbylet, offset)\n",
    "\n",
    "# Select first 500 of test data for each class_number\n",
    "X_test_selected_num, y_test_selected_num = select_first_num_of_sequentiallysorted_images(500, st_test, \n",
    "                                                                                 test_images_sortedbylet, \n",
    "                                                                                 test_labels_sortedbylet, offset)"
   ]
  },
  {
   "cell_type": "markdown",
   "metadata": {},
   "source": [
    "## Load letters data"
   ]
  },
  {
   "cell_type": "code",
   "execution_count": 12,
   "metadata": {
    "execution": {
     "iopub.execute_input": "2024-01-24T09:56:03.345412Z",
     "iopub.status.busy": "2024-01-24T09:56:03.344976Z",
     "iopub.status.idle": "2024-01-24T09:56:40.335247Z",
     "shell.execute_reply": "2024-01-24T09:56:40.334323Z",
     "shell.execute_reply.started": "2024-01-24T09:56:03.345377Z"
    },
    "trusted": true
   },
   "outputs": [
    {
     "ename": "FileNotFoundError",
     "evalue": "[Errno 2] No such file or directory: '/A_Z Handwritten Data.csv'",
     "output_type": "error",
     "traceback": [
      "\u001b[1;31m---------------------------------------------------------------------------\u001b[0m",
      "\u001b[1;31mFileNotFoundError\u001b[0m                         Traceback (most recent call last)",
      "Cell \u001b[1;32mIn[12], line 1\u001b[0m\n\u001b[1;32m----> 1\u001b[0m X \u001b[38;5;241m=\u001b[39m \u001b[43mpd\u001b[49m\u001b[38;5;241;43m.\u001b[39;49m\u001b[43mread_csv\u001b[49m\u001b[43m(\u001b[49m\u001b[38;5;124;43m\"\u001b[39;49m\u001b[38;5;124;43m/A_Z Handwritten Data.csv\u001b[39;49m\u001b[38;5;124;43m\"\u001b[39;49m\u001b[43m)\u001b[49m\n\u001b[0;32m      2\u001b[0m X\n\u001b[0;32m      4\u001b[0m \u001b[38;5;66;03m# It is already sorted by label (X['0'])\u001b[39;00m\n",
      "File \u001b[1;32m~\\AppData\\Local\\Packages\\PythonSoftwareFoundation.Python.3.12_qbz5n2kfra8p0\\LocalCache\\local-packages\\Python312\\site-packages\\pandas\\io\\parsers\\readers.py:1026\u001b[0m, in \u001b[0;36mread_csv\u001b[1;34m(filepath_or_buffer, sep, delimiter, header, names, index_col, usecols, dtype, engine, converters, true_values, false_values, skipinitialspace, skiprows, skipfooter, nrows, na_values, keep_default_na, na_filter, verbose, skip_blank_lines, parse_dates, infer_datetime_format, keep_date_col, date_parser, date_format, dayfirst, cache_dates, iterator, chunksize, compression, thousands, decimal, lineterminator, quotechar, quoting, doublequote, escapechar, comment, encoding, encoding_errors, dialect, on_bad_lines, delim_whitespace, low_memory, memory_map, float_precision, storage_options, dtype_backend)\u001b[0m\n\u001b[0;32m   1013\u001b[0m kwds_defaults \u001b[38;5;241m=\u001b[39m _refine_defaults_read(\n\u001b[0;32m   1014\u001b[0m     dialect,\n\u001b[0;32m   1015\u001b[0m     delimiter,\n\u001b[1;32m   (...)\u001b[0m\n\u001b[0;32m   1022\u001b[0m     dtype_backend\u001b[38;5;241m=\u001b[39mdtype_backend,\n\u001b[0;32m   1023\u001b[0m )\n\u001b[0;32m   1024\u001b[0m kwds\u001b[38;5;241m.\u001b[39mupdate(kwds_defaults)\n\u001b[1;32m-> 1026\u001b[0m \u001b[38;5;28;01mreturn\u001b[39;00m \u001b[43m_read\u001b[49m\u001b[43m(\u001b[49m\u001b[43mfilepath_or_buffer\u001b[49m\u001b[43m,\u001b[49m\u001b[43m \u001b[49m\u001b[43mkwds\u001b[49m\u001b[43m)\u001b[49m\n",
      "File \u001b[1;32m~\\AppData\\Local\\Packages\\PythonSoftwareFoundation.Python.3.12_qbz5n2kfra8p0\\LocalCache\\local-packages\\Python312\\site-packages\\pandas\\io\\parsers\\readers.py:620\u001b[0m, in \u001b[0;36m_read\u001b[1;34m(filepath_or_buffer, kwds)\u001b[0m\n\u001b[0;32m    617\u001b[0m _validate_names(kwds\u001b[38;5;241m.\u001b[39mget(\u001b[38;5;124m\"\u001b[39m\u001b[38;5;124mnames\u001b[39m\u001b[38;5;124m\"\u001b[39m, \u001b[38;5;28;01mNone\u001b[39;00m))\n\u001b[0;32m    619\u001b[0m \u001b[38;5;66;03m# Create the parser.\u001b[39;00m\n\u001b[1;32m--> 620\u001b[0m parser \u001b[38;5;241m=\u001b[39m \u001b[43mTextFileReader\u001b[49m\u001b[43m(\u001b[49m\u001b[43mfilepath_or_buffer\u001b[49m\u001b[43m,\u001b[49m\u001b[43m \u001b[49m\u001b[38;5;241;43m*\u001b[39;49m\u001b[38;5;241;43m*\u001b[39;49m\u001b[43mkwds\u001b[49m\u001b[43m)\u001b[49m\n\u001b[0;32m    622\u001b[0m \u001b[38;5;28;01mif\u001b[39;00m chunksize \u001b[38;5;129;01mor\u001b[39;00m iterator:\n\u001b[0;32m    623\u001b[0m     \u001b[38;5;28;01mreturn\u001b[39;00m parser\n",
      "File \u001b[1;32m~\\AppData\\Local\\Packages\\PythonSoftwareFoundation.Python.3.12_qbz5n2kfra8p0\\LocalCache\\local-packages\\Python312\\site-packages\\pandas\\io\\parsers\\readers.py:1620\u001b[0m, in \u001b[0;36mTextFileReader.__init__\u001b[1;34m(self, f, engine, **kwds)\u001b[0m\n\u001b[0;32m   1617\u001b[0m     \u001b[38;5;28mself\u001b[39m\u001b[38;5;241m.\u001b[39moptions[\u001b[38;5;124m\"\u001b[39m\u001b[38;5;124mhas_index_names\u001b[39m\u001b[38;5;124m\"\u001b[39m] \u001b[38;5;241m=\u001b[39m kwds[\u001b[38;5;124m\"\u001b[39m\u001b[38;5;124mhas_index_names\u001b[39m\u001b[38;5;124m\"\u001b[39m]\n\u001b[0;32m   1619\u001b[0m \u001b[38;5;28mself\u001b[39m\u001b[38;5;241m.\u001b[39mhandles: IOHandles \u001b[38;5;241m|\u001b[39m \u001b[38;5;28;01mNone\u001b[39;00m \u001b[38;5;241m=\u001b[39m \u001b[38;5;28;01mNone\u001b[39;00m\n\u001b[1;32m-> 1620\u001b[0m \u001b[38;5;28mself\u001b[39m\u001b[38;5;241m.\u001b[39m_engine \u001b[38;5;241m=\u001b[39m \u001b[38;5;28;43mself\u001b[39;49m\u001b[38;5;241;43m.\u001b[39;49m\u001b[43m_make_engine\u001b[49m\u001b[43m(\u001b[49m\u001b[43mf\u001b[49m\u001b[43m,\u001b[49m\u001b[43m \u001b[49m\u001b[38;5;28;43mself\u001b[39;49m\u001b[38;5;241;43m.\u001b[39;49m\u001b[43mengine\u001b[49m\u001b[43m)\u001b[49m\n",
      "File \u001b[1;32m~\\AppData\\Local\\Packages\\PythonSoftwareFoundation.Python.3.12_qbz5n2kfra8p0\\LocalCache\\local-packages\\Python312\\site-packages\\pandas\\io\\parsers\\readers.py:1880\u001b[0m, in \u001b[0;36mTextFileReader._make_engine\u001b[1;34m(self, f, engine)\u001b[0m\n\u001b[0;32m   1878\u001b[0m     \u001b[38;5;28;01mif\u001b[39;00m \u001b[38;5;124m\"\u001b[39m\u001b[38;5;124mb\u001b[39m\u001b[38;5;124m\"\u001b[39m \u001b[38;5;129;01mnot\u001b[39;00m \u001b[38;5;129;01min\u001b[39;00m mode:\n\u001b[0;32m   1879\u001b[0m         mode \u001b[38;5;241m+\u001b[39m\u001b[38;5;241m=\u001b[39m \u001b[38;5;124m\"\u001b[39m\u001b[38;5;124mb\u001b[39m\u001b[38;5;124m\"\u001b[39m\n\u001b[1;32m-> 1880\u001b[0m \u001b[38;5;28mself\u001b[39m\u001b[38;5;241m.\u001b[39mhandles \u001b[38;5;241m=\u001b[39m \u001b[43mget_handle\u001b[49m\u001b[43m(\u001b[49m\n\u001b[0;32m   1881\u001b[0m \u001b[43m    \u001b[49m\u001b[43mf\u001b[49m\u001b[43m,\u001b[49m\n\u001b[0;32m   1882\u001b[0m \u001b[43m    \u001b[49m\u001b[43mmode\u001b[49m\u001b[43m,\u001b[49m\n\u001b[0;32m   1883\u001b[0m \u001b[43m    \u001b[49m\u001b[43mencoding\u001b[49m\u001b[38;5;241;43m=\u001b[39;49m\u001b[38;5;28;43mself\u001b[39;49m\u001b[38;5;241;43m.\u001b[39;49m\u001b[43moptions\u001b[49m\u001b[38;5;241;43m.\u001b[39;49m\u001b[43mget\u001b[49m\u001b[43m(\u001b[49m\u001b[38;5;124;43m\"\u001b[39;49m\u001b[38;5;124;43mencoding\u001b[39;49m\u001b[38;5;124;43m\"\u001b[39;49m\u001b[43m,\u001b[49m\u001b[43m \u001b[49m\u001b[38;5;28;43;01mNone\u001b[39;49;00m\u001b[43m)\u001b[49m\u001b[43m,\u001b[49m\n\u001b[0;32m   1884\u001b[0m \u001b[43m    \u001b[49m\u001b[43mcompression\u001b[49m\u001b[38;5;241;43m=\u001b[39;49m\u001b[38;5;28;43mself\u001b[39;49m\u001b[38;5;241;43m.\u001b[39;49m\u001b[43moptions\u001b[49m\u001b[38;5;241;43m.\u001b[39;49m\u001b[43mget\u001b[49m\u001b[43m(\u001b[49m\u001b[38;5;124;43m\"\u001b[39;49m\u001b[38;5;124;43mcompression\u001b[39;49m\u001b[38;5;124;43m\"\u001b[39;49m\u001b[43m,\u001b[49m\u001b[43m \u001b[49m\u001b[38;5;28;43;01mNone\u001b[39;49;00m\u001b[43m)\u001b[49m\u001b[43m,\u001b[49m\n\u001b[0;32m   1885\u001b[0m \u001b[43m    \u001b[49m\u001b[43mmemory_map\u001b[49m\u001b[38;5;241;43m=\u001b[39;49m\u001b[38;5;28;43mself\u001b[39;49m\u001b[38;5;241;43m.\u001b[39;49m\u001b[43moptions\u001b[49m\u001b[38;5;241;43m.\u001b[39;49m\u001b[43mget\u001b[49m\u001b[43m(\u001b[49m\u001b[38;5;124;43m\"\u001b[39;49m\u001b[38;5;124;43mmemory_map\u001b[39;49m\u001b[38;5;124;43m\"\u001b[39;49m\u001b[43m,\u001b[49m\u001b[43m \u001b[49m\u001b[38;5;28;43;01mFalse\u001b[39;49;00m\u001b[43m)\u001b[49m\u001b[43m,\u001b[49m\n\u001b[0;32m   1886\u001b[0m \u001b[43m    \u001b[49m\u001b[43mis_text\u001b[49m\u001b[38;5;241;43m=\u001b[39;49m\u001b[43mis_text\u001b[49m\u001b[43m,\u001b[49m\n\u001b[0;32m   1887\u001b[0m \u001b[43m    \u001b[49m\u001b[43merrors\u001b[49m\u001b[38;5;241;43m=\u001b[39;49m\u001b[38;5;28;43mself\u001b[39;49m\u001b[38;5;241;43m.\u001b[39;49m\u001b[43moptions\u001b[49m\u001b[38;5;241;43m.\u001b[39;49m\u001b[43mget\u001b[49m\u001b[43m(\u001b[49m\u001b[38;5;124;43m\"\u001b[39;49m\u001b[38;5;124;43mencoding_errors\u001b[39;49m\u001b[38;5;124;43m\"\u001b[39;49m\u001b[43m,\u001b[49m\u001b[43m \u001b[49m\u001b[38;5;124;43m\"\u001b[39;49m\u001b[38;5;124;43mstrict\u001b[39;49m\u001b[38;5;124;43m\"\u001b[39;49m\u001b[43m)\u001b[49m\u001b[43m,\u001b[49m\n\u001b[0;32m   1888\u001b[0m \u001b[43m    \u001b[49m\u001b[43mstorage_options\u001b[49m\u001b[38;5;241;43m=\u001b[39;49m\u001b[38;5;28;43mself\u001b[39;49m\u001b[38;5;241;43m.\u001b[39;49m\u001b[43moptions\u001b[49m\u001b[38;5;241;43m.\u001b[39;49m\u001b[43mget\u001b[49m\u001b[43m(\u001b[49m\u001b[38;5;124;43m\"\u001b[39;49m\u001b[38;5;124;43mstorage_options\u001b[39;49m\u001b[38;5;124;43m\"\u001b[39;49m\u001b[43m,\u001b[49m\u001b[43m \u001b[49m\u001b[38;5;28;43;01mNone\u001b[39;49;00m\u001b[43m)\u001b[49m\u001b[43m,\u001b[49m\n\u001b[0;32m   1889\u001b[0m \u001b[43m\u001b[49m\u001b[43m)\u001b[49m\n\u001b[0;32m   1890\u001b[0m \u001b[38;5;28;01massert\u001b[39;00m \u001b[38;5;28mself\u001b[39m\u001b[38;5;241m.\u001b[39mhandles \u001b[38;5;129;01mis\u001b[39;00m \u001b[38;5;129;01mnot\u001b[39;00m \u001b[38;5;28;01mNone\u001b[39;00m\n\u001b[0;32m   1891\u001b[0m f \u001b[38;5;241m=\u001b[39m \u001b[38;5;28mself\u001b[39m\u001b[38;5;241m.\u001b[39mhandles\u001b[38;5;241m.\u001b[39mhandle\n",
      "File \u001b[1;32m~\\AppData\\Local\\Packages\\PythonSoftwareFoundation.Python.3.12_qbz5n2kfra8p0\\LocalCache\\local-packages\\Python312\\site-packages\\pandas\\io\\common.py:873\u001b[0m, in \u001b[0;36mget_handle\u001b[1;34m(path_or_buf, mode, encoding, compression, memory_map, is_text, errors, storage_options)\u001b[0m\n\u001b[0;32m    868\u001b[0m \u001b[38;5;28;01melif\u001b[39;00m \u001b[38;5;28misinstance\u001b[39m(handle, \u001b[38;5;28mstr\u001b[39m):\n\u001b[0;32m    869\u001b[0m     \u001b[38;5;66;03m# Check whether the filename is to be opened in binary mode.\u001b[39;00m\n\u001b[0;32m    870\u001b[0m     \u001b[38;5;66;03m# Binary mode does not support 'encoding' and 'newline'.\u001b[39;00m\n\u001b[0;32m    871\u001b[0m     \u001b[38;5;28;01mif\u001b[39;00m ioargs\u001b[38;5;241m.\u001b[39mencoding \u001b[38;5;129;01mand\u001b[39;00m \u001b[38;5;124m\"\u001b[39m\u001b[38;5;124mb\u001b[39m\u001b[38;5;124m\"\u001b[39m \u001b[38;5;129;01mnot\u001b[39;00m \u001b[38;5;129;01min\u001b[39;00m ioargs\u001b[38;5;241m.\u001b[39mmode:\n\u001b[0;32m    872\u001b[0m         \u001b[38;5;66;03m# Encoding\u001b[39;00m\n\u001b[1;32m--> 873\u001b[0m         handle \u001b[38;5;241m=\u001b[39m \u001b[38;5;28;43mopen\u001b[39;49m\u001b[43m(\u001b[49m\n\u001b[0;32m    874\u001b[0m \u001b[43m            \u001b[49m\u001b[43mhandle\u001b[49m\u001b[43m,\u001b[49m\n\u001b[0;32m    875\u001b[0m \u001b[43m            \u001b[49m\u001b[43mioargs\u001b[49m\u001b[38;5;241;43m.\u001b[39;49m\u001b[43mmode\u001b[49m\u001b[43m,\u001b[49m\n\u001b[0;32m    876\u001b[0m \u001b[43m            \u001b[49m\u001b[43mencoding\u001b[49m\u001b[38;5;241;43m=\u001b[39;49m\u001b[43mioargs\u001b[49m\u001b[38;5;241;43m.\u001b[39;49m\u001b[43mencoding\u001b[49m\u001b[43m,\u001b[49m\n\u001b[0;32m    877\u001b[0m \u001b[43m            \u001b[49m\u001b[43merrors\u001b[49m\u001b[38;5;241;43m=\u001b[39;49m\u001b[43merrors\u001b[49m\u001b[43m,\u001b[49m\n\u001b[0;32m    878\u001b[0m \u001b[43m            \u001b[49m\u001b[43mnewline\u001b[49m\u001b[38;5;241;43m=\u001b[39;49m\u001b[38;5;124;43m\"\u001b[39;49m\u001b[38;5;124;43m\"\u001b[39;49m\u001b[43m,\u001b[49m\n\u001b[0;32m    879\u001b[0m \u001b[43m        \u001b[49m\u001b[43m)\u001b[49m\n\u001b[0;32m    880\u001b[0m     \u001b[38;5;28;01melse\u001b[39;00m:\n\u001b[0;32m    881\u001b[0m         \u001b[38;5;66;03m# Binary mode\u001b[39;00m\n\u001b[0;32m    882\u001b[0m         handle \u001b[38;5;241m=\u001b[39m \u001b[38;5;28mopen\u001b[39m(handle, ioargs\u001b[38;5;241m.\u001b[39mmode)\n",
      "\u001b[1;31mFileNotFoundError\u001b[0m: [Errno 2] No such file or directory: '/A_Z Handwritten Data.csv'"
     ]
    }
   ],
   "source": [
    "X = pd.read_csv(\"C:/Users/Hussain/Downloads/A_Z Handwritten Data.csv/tensorflowjs-letter-number-writing.ipynb\")\n",
    "X\n",
    "\n",
    "# It is already sorted by label (X['0'])"
   ]
  },
  {
   "cell_type": "code",
   "execution_count": 12,
   "metadata": {
    "execution": {
     "iopub.execute_input": "2024-01-24T09:58:10.096612Z",
     "iopub.status.busy": "2024-01-24T09:58:10.096196Z",
     "iopub.status.idle": "2024-01-24T09:58:10.324497Z",
     "shell.execute_reply": "2024-01-24T09:58:10.323535Z",
     "shell.execute_reply.started": "2024-01-24T09:58:10.096580Z"
    },
    "trusted": true
   },
   "outputs": [],
   "source": [
    "# Make X and y datasets\n",
    "y = X.pop('0')"
   ]
  },
  {
   "cell_type": "code",
   "execution_count": 13,
   "metadata": {
    "execution": {
     "iopub.execute_input": "2024-01-24T09:58:11.252025Z",
     "iopub.status.busy": "2024-01-24T09:58:11.251658Z",
     "iopub.status.idle": "2024-01-24T09:58:12.764894Z",
     "shell.execute_reply": "2024-01-24T09:58:12.763748Z",
     "shell.execute_reply.started": "2024-01-24T09:58:11.251995Z"
    },
    "trusted": true
   },
   "outputs": [
    {
     "name": "stdout",
     "output_type": "stream",
     "text": [
      "X.shape:  (372450, 784)\n",
      "y.shape:  (372450,)\n"
     ]
    }
   ],
   "source": [
    "# View the shape of the data\n",
    "print('X.shape: ', np.array(X).shape)\n",
    "print('y.shape: ', np.array(y).shape)"
   ]
  },
  {
   "cell_type": "code",
   "execution_count": 14,
   "metadata": {
    "execution": {
     "iopub.execute_input": "2024-01-24T09:58:14.582246Z",
     "iopub.status.busy": "2024-01-24T09:58:14.581236Z",
     "iopub.status.idle": "2024-01-24T09:58:14.655752Z",
     "shell.execute_reply": "2024-01-24T09:58:14.654727Z",
     "shell.execute_reply.started": "2024-01-24T09:58:14.582203Z"
    },
    "trusted": true
   },
   "outputs": [
    {
     "name": "stdout",
     "output_type": "stream",
     "text": [
      "class_num:  26\n",
      "st:  [0, 13869, 22537, 45946, 56080, 67520, 68683, 74445, 81663, 82783, 91276, 96879, 108465, 120801, 139811, 197636, 216977, 222789, 234355, 282774, 305269, 334277, 338459, 349243, 355515, 366374]\n",
      "stop:  [13868, 22536, 45945, 56079, 67519, 68682, 74444, 81662, 82782, 91275, 96878, 108464, 120800, 139810, 197635, 216976, 222788, 234354, 282773, 305268, 334276, 338458, 349242, 355514, 366373, 372449]\n"
     ]
    }
   ],
   "source": [
    "st_caplet, stop_caplet, class_num_caplet = get_start_stop_index(y)"
   ]
  },
  {
   "cell_type": "code",
   "execution_count": 15,
   "metadata": {
    "execution": {
     "iopub.execute_input": "2024-01-24T09:58:15.659879Z",
     "iopub.status.busy": "2024-01-24T09:58:15.659501Z",
     "iopub.status.idle": "2024-01-24T09:58:15.733980Z",
     "shell.execute_reply": "2024-01-24T09:58:15.732846Z",
     "shell.execute_reply.started": "2024-01-24T09:58:15.659850Z"
    },
    "trusted": true
   },
   "outputs": [],
   "source": [
    "y_sorted = [i+10 for i in y] # Offset label to go after class_number, A=10, B=11, ..., Z=35"
   ]
  },
  {
   "cell_type": "code",
   "execution_count": 16,
   "metadata": {
    "execution": {
     "iopub.execute_input": "2024-01-24T09:58:17.407595Z",
     "iopub.status.busy": "2024-01-24T09:58:17.406965Z",
     "iopub.status.idle": "2024-01-24T09:58:18.954313Z",
     "shell.execute_reply": "2024-01-24T09:58:18.953208Z",
     "shell.execute_reply.started": "2024-01-24T09:58:17.407562Z"
    },
    "trusted": true
   },
   "outputs": [
    {
     "data": {
      "image/png": "[encoded data removed]",
      "text/plain": [
       "<Figure size 800x800 with 26 Axes>"
      ]
     },
     "metadata": {},
     "output_type": "display_data"
    }
   ],
   "source": [
    "# Verify if mapping of images and labels are correct\n",
    "fig, axx = plt.subplots(nrows=1, ncols=class_num_caplet, figsize=(8,8))\n",
    "\n",
    "for i in range(class_num_caplet):\n",
    "    axx[i].imshow(X.iloc[st_caplet[i],0:784].values.reshape(28,28))\n",
    "    axx[i].axis('off')\n",
    "\n",
    "    axx[i].set_title(f\"label={y_sorted[st_caplet[i]]}\", size=9, rotation=90)\n",
    "plt.show()"
   ]
  },
  {
   "cell_type": "code",
   "execution_count": 17,
   "metadata": {
    "execution": {
     "iopub.execute_input": "2024-01-24T09:58:20.644084Z",
     "iopub.status.busy": "2024-01-24T09:58:20.643738Z",
     "iopub.status.idle": "2024-01-24T09:59:05.054450Z",
     "shell.execute_reply": "2024-01-24T09:59:05.053209Z",
     "shell.execute_reply.started": "2024-01-24T09:58:20.644059Z"
    },
    "trusted": true
   },
   "outputs": [
    {
     "name": "stdout",
     "output_type": "stream",
     "text": [
      "st_mod:  [0, 13869, 22537, 45946, 56080, 67520, 68683, 74445, 81663, 82783, 91276, 96879, 108465, 120801, 139811, 197636, 216977, 222789, 234355, 282774, 305269, 334277, 338459, 349243, 355515, 366374]\n",
      "stop_mod:  [1000, 14869, 23537, 46946, 57080, 68520, 69683, 75445, 82663, 83783, 92276, 97879, 109465, 121801, 140811, 198636, 217977, 223789, 235355, 283774, 306269, 335277, 339459, 350243, 356515, 367374]\n",
      "X_selected.shape:  (26000, 28, 28)\n",
      "y_selected.shape:  (26000,)\n"
     ]
    }
   ],
   "source": [
    "# Select first 1000 of data for each class_number, for the train dataset\n",
    "offset = 0\n",
    "X_train_selected, y_train_selected = select_first_num_of_sequentiallysorted_images(1000, st_caplet, X, y_sorted, offset)\n"
   ]
  },
  {
   "cell_type": "code",
   "execution_count": 18,
   "metadata": {
    "execution": {
     "iopub.execute_input": "2024-01-24T09:59:08.776069Z",
     "iopub.status.busy": "2024-01-24T09:59:08.775717Z",
     "iopub.status.idle": "2024-01-24T09:59:31.879619Z",
     "shell.execute_reply": "2024-01-24T09:59:31.878600Z",
     "shell.execute_reply.started": "2024-01-24T09:59:08.776044Z"
    },
    "trusted": true
   },
   "outputs": [
    {
     "name": "stdout",
     "output_type": "stream",
     "text": [
      "st_mod:  [1000, 14869, 23537, 46946, 57080, 68520, 69683, 75445, 82663, 83783, 92276, 97879, 109465, 121801, 140811, 198636, 217977, 223789, 235355, 283774, 306269, 335277, 339459, 350243, 356515, 367374]\n",
      "stop_mod:  [1500, 15369, 24037, 47446, 57580, 69020, 70183, 75945, 83163, 84283, 92776, 98379, 109965, 122301, 141311, 199136, 218477, 224289, 235855, 284274, 306769, 335777, 339959, 350743, 357015, 367874]\n",
      "X_selected.shape:  (13000, 28, 28)\n",
      "y_selected.shape:  (13000,)\n"
     ]
    }
   ],
   "source": [
    "# Select first 500, AFTER the first 1000, of data for each class_number for the test dataset\n",
    "offset = 1000\n",
    "X_test_selected, y_test_selected = select_first_num_of_sequentiallysorted_images(500, st_caplet, X, y_sorted, offset)"
   ]
  },
  {
   "cell_type": "markdown",
   "metadata": {
    "execution": {
     "iopub.execute_input": "2024-01-22T14:40:35.969175Z",
     "iopub.status.busy": "2024-01-22T14:40:35.968739Z",
     "iopub.status.idle": "2024-01-22T14:40:36.048859Z",
     "shell.execute_reply": "2024-01-22T14:40:36.047856Z",
     "shell.execute_reply.started": "2024-01-22T14:40:35.969145Z"
    }
   },
   "source": [
    "## Combine the numbers and letters datasets"
   ]
  },
  {
   "cell_type": "code",
   "execution_count": 19,
   "metadata": {
    "execution": {
     "iopub.execute_input": "2024-01-24T10:02:10.501346Z",
     "iopub.status.busy": "2024-01-24T10:02:10.500555Z",
     "iopub.status.idle": "2024-01-24T10:02:10.512964Z",
     "shell.execute_reply": "2024-01-24T10:02:10.511897Z",
     "shell.execute_reply.started": "2024-01-24T10:02:10.501305Z"
    },
    "trusted": true
   },
   "outputs": [],
   "source": [
    "for i in range(len(X_train_selected_num)):\n",
    "    X_train_selected.append(X_train_selected_num[i])\n",
    "    y_train_selected.append(y_train_selected_num[i])\n",
    "    \n",
    "for i in range(len(X_test_selected_num)):\n",
    "    X_test_selected.append(X_test_selected_num[i])\n",
    "    y_test_selected.append(y_test_selected_num[i])"
   ]
  },
  {
   "cell_type": "code",
   "execution_count": 20,
   "metadata": {
    "execution": {
     "iopub.execute_input": "2024-01-24T10:02:11.447929Z",
     "iopub.status.busy": "2024-01-24T10:02:11.447104Z",
     "iopub.status.idle": "2024-01-24T10:02:11.555338Z",
     "shell.execute_reply": "2024-01-24T10:02:11.554329Z",
     "shell.execute_reply.started": "2024-01-24T10:02:11.447893Z"
    },
    "trusted": true
   },
   "outputs": [
    {
     "name": "stdout",
     "output_type": "stream",
     "text": [
      "X_train_selected.shape:  (36000, 28, 28)\n",
      "y_train_selected.shape:  (36000,)\n",
      "X_test_selected.shape:  (18000, 28, 28)\n",
      "y_test_selected.shape:  (18000,)\n"
     ]
    }
   ],
   "source": [
    "# View the shape of the data\n",
    "print('X_train_selected.shape: ', np.array(X_train_selected).shape)\n",
    "print('y_train_selected.shape: ', np.array(y_train_selected).shape)\n",
    "print('X_test_selected.shape: ', np.array(X_test_selected).shape)\n",
    "print('y_test_selected.shape: ', np.array(y_test_selected).shape)"
   ]
  },
  {
   "cell_type": "markdown",
   "metadata": {},
   "source": [
    "## Create a Dataset"
   ]
  },
  {
   "cell_type": "code",
   "execution_count": 21,
   "metadata": {
    "execution": {
     "iopub.execute_input": "2024-01-24T10:02:15.314136Z",
     "iopub.status.busy": "2024-01-24T10:02:15.313328Z",
     "iopub.status.idle": "2024-01-24T10:04:52.785833Z",
     "shell.execute_reply": "2024-01-24T10:04:52.784898Z",
     "shell.execute_reply.started": "2024-01-24T10:02:15.314099Z"
    },
    "trusted": true
   },
   "outputs": [],
   "source": [
    "BATCH_SIZE = 1\n",
    "\n",
    "train_ds = tf.data.Dataset.from_tensor_slices((X_train_selected, y_train_selected))\n",
    "train_ds = train_ds.shuffle(len(X_train_selected))\n",
    "train_ds = train_ds.batch(BATCH_SIZE, drop_remainder=True)\n",
    "\n",
    "test_ds = tf.data.Dataset.from_tensor_slices((X_test_selected, y_test_selected))\n",
    "test_ds = test_ds.shuffle(len(X_test_selected))\n",
    "test_ds = test_ds.batch(BATCH_SIZE, drop_remainder=True)"
   ]
  },
  {
   "cell_type": "code",
   "execution_count": 22,
   "metadata": {
    "execution": {
     "iopub.execute_input": "2024-01-24T10:04:59.021788Z",
     "iopub.status.busy": "2024-01-24T10:04:59.021381Z",
     "iopub.status.idle": "2024-01-24T10:04:59.102004Z",
     "shell.execute_reply": "2024-01-24T10:04:59.101182Z",
     "shell.execute_reply.started": "2024-01-24T10:04:59.021755Z"
    },
    "trusted": true
   },
   "outputs": [],
   "source": [
    "# Also, outside of the model, reshape the image back to a 4D tensor\n",
    "train_ds_4d = train_ds.map(lambda x, y: (tf.reshape(x, [1, 28, 28, 1]), y))\n",
    "test_ds_4d = test_ds.map(lambda x, y: (tf.reshape(x, [1, 28, 28, 1]), y))"
   ]
  },
  {
   "cell_type": "markdown",
   "metadata": {},
   "source": [
    "# Model Training"
   ]
  },
  {
   "cell_type": "markdown",
   "metadata": {},
   "source": [
    "## Define callbacks"
   ]
  },
  {
   "cell_type": "code",
   "execution_count": 23,
   "metadata": {
    "execution": {
     "iopub.execute_input": "2024-01-24T10:05:02.341523Z",
     "iopub.status.busy": "2024-01-24T10:05:02.341146Z",
     "iopub.status.idle": "2024-01-24T10:05:02.468174Z",
     "shell.execute_reply": "2024-01-24T10:05:02.467391Z",
     "shell.execute_reply.started": "2024-01-24T10:05:02.341493Z"
    },
    "trusted": true
   },
   "outputs": [],
   "source": [
    "patience = 60\n",
    "early_stopping = tf.keras.callbacks.EarlyStopping(monitor='loss', patience=patience, mode='min')"
   ]
  },
  {
   "cell_type": "code",
   "execution_count": 24,
   "metadata": {
    "execution": {
     "iopub.execute_input": "2024-01-24T10:05:06.061530Z",
     "iopub.status.busy": "2024-01-24T10:05:06.060772Z",
     "iopub.status.idle": "2024-01-24T10:05:06.071701Z",
     "shell.execute_reply": "2024-01-24T10:05:06.070529Z",
     "shell.execute_reply.started": "2024-01-24T10:05:06.061491Z"
    },
    "trusted": true
   },
   "outputs": [],
   "source": [
    "def MPCNN_arch():\n",
    "    \n",
    "    # Functional API format\n",
    "    \n",
    "    input_layer = tf.keras.layers.Input(shape=(28, 28, 1), dtype='float32')\n",
    "    \n",
    "    initializer = tf.keras.initializers.HeUniform()\n",
    "    \n",
    "    \n",
    "    # ----------------------------\n",
    "    \n",
    "    # Way 0: (train=0.92, val=0.83, train_loss=1.67e-14, val_loss=8.11)\n",
    "    # last 3 blocks with Dropout\n",
    "    # First time there is a reduction in loss for both train and val - less overfitting\n",
    "    # Add a Dropout layer to prevent overfitting\n",
    "    x = tf.keras.layers.Conv2D(16, (3,3), activation='relu', kernel_initializer=initializer, input_shape=(28, 28, 1))(input_layer)\n",
    "    x = tf.keras.layers.MaxPooling2D(2, 2)(x)\n",
    "    \n",
    "    x = tf.keras.layers.Conv2D(32, (3,3), activation='relu')(x)\n",
    "    x = tf.keras.layers.MaxPooling2D(2, 2)(x)\n",
    "    \n",
    "    x = tf.keras.layers.Dropout(0.2)(x) \n",
    "    \n",
    "    x = tf.keras.layers.Flatten()(x)\n",
    "    \n",
    "    x = tf.keras.layers.Dense(64, activation='relu')(x)\n",
    "    \n",
    "    # ----------------------------\n",
    "    \n",
    "    # kernel_regularizer=tf.keras.regularizers.l2(0.1)   # Regularization (Tensorflow.js can not recognize regularization in model.json file)\n",
    "    # outputs = tf.keras.layers.Dense(1, activation='sigmoid', kernel_regularizer=kernel_regularizer)(x)\n",
    "    outputs = tf.keras.layers.Dense(36, activation='softmax')(x)\n",
    "    \n",
    "    model = tf.keras.Model(inputs=input_layer, outputs=outputs)\n",
    "    \n",
    "    return model"
   ]
  },
  {
   "cell_type": "code",
   "execution_count": 26,
   "metadata": {
    "execution": {
     "iopub.execute_input": "2024-01-24T10:08:59.295997Z",
     "iopub.status.busy": "2024-01-24T10:08:59.295539Z",
     "iopub.status.idle": "2024-01-24T10:08:59.434000Z",
     "shell.execute_reply": "2024-01-24T10:08:59.432894Z",
     "shell.execute_reply.started": "2024-01-24T10:08:59.295964Z"
    },
    "trusted": true
   },
   "outputs": [
    {
     "data": {
      "text/plain": [
       "<keras.src.engine.functional.Functional at 0x7f2291a3b280>"
      ]
     },
     "execution_count": 26,
     "metadata": {},
     "output_type": "execute_result"
    }
   ],
   "source": [
    "model = MPCNN_arch()\n",
    "model"
   ]
  },
  {
   "cell_type": "code",
   "execution_count": 27,
   "metadata": {
    "execution": {
     "iopub.execute_input": "2024-01-24T10:09:00.337974Z",
     "iopub.status.busy": "2024-01-24T10:09:00.337585Z",
     "iopub.status.idle": "2024-01-24T10:57:42.278881Z",
     "shell.execute_reply": "2024-01-24T10:57:42.277836Z",
     "shell.execute_reply.started": "2024-01-24T10:09:00.337944Z"
    },
    "trusted": true
   },
   "outputs": [
    {
     "name": "stdout",
     "output_type": "stream",
     "text": [
      "Epoch 1/20\n"
     ]
    },
    {
     "name": "stderr",
     "output_type": "stream",
     "text": [
      "2024-01-24 10:09:01.213660: E tensorflow/core/grappler/optimizers/meta_optimizer.cc:954] layout failed: INVALID_ARGUMENT: Size of values 0 does not match size of permutation 4 @ fanin shape inmodel/dropout/dropout/SelectV2-2-TransposeNHWCToNCHW-LayoutOptimizer\n"
     ]
    },
    {
     "name": "stdout",
     "output_type": "stream",
     "text": [
      "36000/36000 [==============================] - 152s 4ms/step - loss: 4.5486 - accuracy: 0.0736 - val_loss: 3.3377 - val_accuracy: 0.0979\n",
      "Epoch 2/20\n",
      "36000/36000 [==============================] - 144s 4ms/step - loss: 3.1313 - accuracy: 0.1462 - val_loss: 2.9924 - val_accuracy: 0.1728\n",
      "Epoch 3/20\n",
      "36000/36000 [==============================] - 144s 4ms/step - loss: 2.6632 - accuracy: 0.2793 - val_loss: 2.2066 - val_accuracy: 0.3853\n",
      "Epoch 4/20\n",
      "36000/36000 [==============================] - 144s 4ms/step - loss: 1.3259 - accuracy: 0.6312 - val_loss: 0.7202 - val_accuracy: 0.7864\n",
      "Epoch 5/20\n",
      "36000/36000 [==============================] - 144s 4ms/step - loss: 0.6004 - accuracy: 0.8252 - val_loss: 0.4518 - val_accuracy: 0.8656\n",
      "Epoch 6/20\n",
      "36000/36000 [==============================] - 144s 4ms/step - loss: 0.4154 - accuracy: 0.8797 - val_loss: 0.3706 - val_accuracy: 0.8929\n",
      "Epoch 7/20\n",
      "36000/36000 [==============================] - 145s 4ms/step - loss: 0.3374 - accuracy: 0.9016 - val_loss: 0.3463 - val_accuracy: 0.9002\n",
      "Epoch 8/20\n",
      "36000/36000 [==============================] - 144s 4ms/step - loss: 0.2902 - accuracy: 0.9157 - val_loss: 0.2998 - val_accuracy: 0.9165\n",
      "Epoch 9/20\n",
      "36000/36000 [==============================] - 145s 4ms/step - loss: 0.2563 - accuracy: 0.9253 - val_loss: 0.2770 - val_accuracy: 0.9245\n",
      "Epoch 10/20\n",
      "36000/36000 [==============================] - 148s 4ms/step - loss: 0.2365 - accuracy: 0.9303 - val_loss: 0.2661 - val_accuracy: 0.9288\n",
      "Epoch 11/20\n",
      "36000/36000 [==============================] - 147s 4ms/step - loss: 0.2111 - accuracy: 0.9371 - val_loss: 0.2850 - val_accuracy: 0.9272\n",
      "Epoch 12/20\n",
      "36000/36000 [==============================] - 147s 4ms/step - loss: 0.2007 - accuracy: 0.9409 - val_loss: 0.2710 - val_accuracy: 0.9340\n",
      "Epoch 13/20\n",
      "36000/36000 [==============================] - 146s 4ms/step - loss: 0.1875 - accuracy: 0.9440 - val_loss: 0.2908 - val_accuracy: 0.9354\n",
      "Epoch 14/20\n",
      "36000/36000 [==============================] - 146s 4ms/step - loss: 0.1775 - accuracy: 0.9474 - val_loss: 0.2550 - val_accuracy: 0.9335\n",
      "Epoch 15/20\n",
      "36000/36000 [==============================] - 147s 4ms/step - loss: 0.1704 - accuracy: 0.9491 - val_loss: 0.2767 - val_accuracy: 0.9268\n",
      "Epoch 16/20\n",
      "36000/36000 [==============================] - 147s 4ms/step - loss: 0.1583 - accuracy: 0.9530 - val_loss: 0.2388 - val_accuracy: 0.9405\n",
      "Epoch 17/20\n",
      "36000/36000 [==============================] - 146s 4ms/step - loss: 0.1458 - accuracy: 0.9551 - val_loss: 0.2678 - val_accuracy: 0.9382\n",
      "Epoch 18/20\n",
      "36000/36000 [==============================] - 146s 4ms/step - loss: 0.1458 - accuracy: 0.9567 - val_loss: 0.2544 - val_accuracy: 0.9412\n",
      "Epoch 19/20\n",
      "36000/36000 [==============================] - 147s 4ms/step - loss: 0.1467 - accuracy: 0.9579 - val_loss: 0.2669 - val_accuracy: 0.9417\n",
      "Epoch 20/20\n",
      "36000/36000 [==============================] - 147s 4ms/step - loss: 0.1307 - accuracy: 0.9599 - val_loss: 0.2541 - val_accuracy: 0.9394\n"
     ]
    }
   ],
   "source": [
    "base_learning_rate = 0.0001\n",
    "\n",
    "# from_logits=False says to NOT calculate sigmoid/softmax, because it is already used in the last Dense layer \n",
    "optimizer = tf.keras.optimizers.Adam(learning_rate=base_learning_rate) # OR optimizer='adam'\n",
    "loss = tf.losses.SparseCategoricalCrossentropy(from_logits=False)  # OR loss='sparse_categorical_crossentropy'\n",
    "metrics = ['accuracy'] # OR metrics=['acc']\n",
    "model.compile(optimizer=optimizer, loss=loss, metrics=metrics)\n",
    "\n",
    "EPOCHS = 20\n",
    "\n",
    "# Train the model: see if the loss and accuracy can be better for this dataset\n",
    "history = model.fit(train_ds_4d, validation_data=test_ds_4d,\n",
    "                   epochs=EPOCHS,\n",
    "                    callbacks=[early_stopping]\n",
    "                   )"
   ]
  },
  {
   "cell_type": "code",
   "execution_count": 37,
   "metadata": {
    "execution": {
     "iopub.execute_input": "2024-01-24T11:03:25.994751Z",
     "iopub.status.busy": "2024-01-24T11:03:25.993814Z",
     "iopub.status.idle": "2024-01-24T11:03:26.834734Z",
     "shell.execute_reply": "2024-01-24T11:03:26.833762Z",
     "shell.execute_reply.started": "2024-01-24T11:03:25.994714Z"
    },
    "trusted": true
   },
   "outputs": [
    {
     "data": {
      "image/png": "[encoded data removed]",
      "text/plain": [
       "<Figure size 800x800 with 2 Axes>"
      ]
     },
     "metadata": {},
     "output_type": "display_data"
    }
   ],
   "source": [
    "# Plot results and save it to the checkpoint folder\n",
    "plotting_training_results(history)"
   ]
  },
  {
   "cell_type": "code",
   "execution_count": 45,
   "metadata": {
    "execution": {
     "iopub.execute_input": "2024-01-24T11:31:27.545524Z",
     "iopub.status.busy": "2024-01-24T11:31:27.545114Z",
     "iopub.status.idle": "2024-01-24T11:31:27.556244Z",
     "shell.execute_reply": "2024-01-24T11:31:27.555255Z",
     "shell.execute_reply.started": "2024-01-24T11:31:27.545493Z"
    },
    "trusted": true
   },
   "outputs": [],
   "source": [
    "# Check that function is correct\n",
    "i = np.random.permutation(np.arange(len(X_train_selected)))[0]\n",
    "\n",
    "image_3D = X_train_selected[i]\n",
    "image_4D = tf.reshape(image_3D, [1, 28, 28, 1])"
   ]
  },
  {
   "cell_type": "code",
   "execution_count": 46,
   "metadata": {
    "execution": {
     "iopub.execute_input": "2024-01-24T11:31:29.160752Z",
     "iopub.status.busy": "2024-01-24T11:31:29.160359Z",
     "iopub.status.idle": "2024-01-24T11:31:29.364722Z",
     "shell.execute_reply": "2024-01-24T11:31:29.363648Z",
     "shell.execute_reply.started": "2024-01-24T11:31:29.160722Z"
    },
    "trusted": true
   },
   "outputs": [
    {
     "name": "stdout",
     "output_type": "stream",
     "text": [
      "1/1 [==============================] - 0s 119ms/step\n"
     ]
    },
    {
     "data": {
      "text/plain": [
       "array([[5.2461866e-37, 1.5018713e-22, 2.3162324e-32, 0.0000000e+00,\n",
       "        1.4384448e-32, 2.6369584e-25, 4.8869255e-37, 3.0219887e-15,\n",
       "        4.7729809e-34, 4.4335534e-36, 3.8459806e-34, 6.3179289e-30,\n",
       "        8.2674516e-25, 1.7572224e-18, 1.3314007e-16, 5.9440222e-09,\n",
       "        1.2274283e-31, 7.1447374e-25, 5.1125543e-14, 1.1372089e-10,\n",
       "        5.6876075e-21, 1.2461733e-30, 2.8908246e-24, 1.3255456e-26,\n",
       "        2.5529991e-27, 5.5490872e-17, 0.0000000e+00, 3.8940985e-31,\n",
       "        1.0829171e-30, 1.0000000e+00, 1.5932995e-26, 1.1066804e-21,\n",
       "        3.3824470e-26, 1.2359819e-20, 7.8992043e-13, 8.9417774e-16]],\n",
       "      dtype=float32)"
      ]
     },
     "execution_count": 46,
     "metadata": {},
     "output_type": "execute_result"
    }
   ],
   "source": [
    "predictions = model.predict(image_4D)\n",
    "predictions"
   ]
  },
  {
   "cell_type": "code",
   "execution_count": null,
   "metadata": {},
   "outputs": [],
   "source": [
    "index = np.argmax(predictions)\n",
    "print('index: ', index)\n",
    "\n",
    "decode_index2numletter = ['0', '1', '2', '3', '4', '5', '6', '7', '8', '9', \n",
    "                          'A', 'B', 'C', 'D', 'E', 'F', 'G', 'H', 'I', 'J',\n",
    "                          'K', 'L', 'M', 'N', 'O', 'P', 'Q', 'R', 'S', 'T', \n",
    "                          'U', 'V', 'W', 'X', 'Y', 'Z'];\n",
    "# ----------------------------------------------\n",
    "\n",
    "# View a sample image\n",
    "fig, (ax0) = plt.subplots(nrows=1, ncols=1, figsize=(4,4))\n",
    "\n",
    "ax0.imshow(image_3D)\n",
    "ax0.axis('off')\n",
    "\n",
    "ax1.set_title(f\"character={decode_index2numletter[index]}\", size=12)\n",
    "plt.show()\n",
    "\n",
    "# ----------------------------------------------"
   ]
  },
  {
   "cell_type": "markdown",
   "metadata": {},
   "source": [
    "# Save model files for Tensorflow.js"
   ]
  },
  {
   "cell_type": "code",
   "execution_count": 40,
   "metadata": {
    "execution": {
     "iopub.execute_input": "2024-01-24T11:04:29.211608Z",
     "iopub.status.busy": "2024-01-24T11:04:29.211212Z",
     "iopub.status.idle": "2024-01-24T11:04:29.262960Z",
     "shell.execute_reply": "2024-01-24T11:04:29.261981Z",
     "shell.execute_reply.started": "2024-01-24T11:04:29.211575Z"
    },
    "trusted": true
   },
   "outputs": [
    {
     "name": "stderr",
     "output_type": "stream",
     "text": [
      "/opt/conda/lib/python3.10/site-packages/keras/src/engine/training.py:3000: UserWarning: You are saving your model as an HDF5 file via `model.save()`. This file format is considered legacy. We recommend using instead the native Keras format, e.g. `model.save('my_model.keras')`.\n",
      "  saving_api.save_model(\n"
     ]
    }
   ],
   "source": [
    "# Convert the saved model to TensorFlow.js format\n",
    "tfjs.converters.save_keras_model(model, 'tfjs_model')"
   ]
  },
  {
   "cell_type": "code",
   "execution_count": 41,
   "metadata": {
    "execution": {
     "iopub.execute_input": "2024-01-24T11:04:31.775420Z",
     "iopub.status.busy": "2024-01-24T11:04:31.774945Z",
     "iopub.status.idle": "2024-01-24T11:04:32.843167Z",
     "shell.execute_reply": "2024-01-24T11:04:32.842025Z",
     "shell.execute_reply.started": "2024-01-24T11:04:31.775384Z"
    },
    "trusted": true
   },
   "outputs": [
    {
     "name": "stdout",
     "output_type": "stream",
     "text": [
      "{\"format\": \"layers-model\", \"generatedBy\": \"keras v2.13.1\", \"convertedBy\": \"TensorFlow.js Converter v4.15.0\", \"modelTopology\": {\"keras_version\": \"2.13.1\", \"backend\": \"tensorflow\", \"model_config\": {\"class_name\": \"Functional\", \"config\": {\"name\": \"model\", \"trainable\": true, \"layers\": [{\"class_name\": \"InputLayer\", \"config\": {\"batch_input_shape\": [null, 28, 28, 1], \"dtype\": \"float32\", \"sparse\": false, \"ragged\": false, \"name\": \"input_1\"}, \"name\": \"input_1\", \"inbound_nodes\": []}, {\"class_name\": \"Conv2D\", \"config\": {\"name\": \"conv2d\", \"trainable\": true, \"dtype\": \"float32\", \"batch_input_shape\": [null, 28, 28, 1], \"filters\": 16, \"kernel_size\": [3, 3], \"strides\": [1, 1], \"padding\": \"valid\", \"data_format\": \"channels_last\", \"dilation_rate\": [1, 1], \"groups\": 1, \"activation\": \"relu\", \"use_bias\": true, \"kernel_initializer\": {\"module\": \"keras.initializers\", \"class_name\": \"HeUniform\", \"config\": {\"seed\": null}, \"registered_name\": null}, \"bias_initializer\": {\"module\": \"keras.initializers\", \"class_name\": \"Zeros\", \"config\": {}, \"registered_name\": null}, \"kernel_regularizer\": null, \"bias_regularizer\": null, \"activity_regularizer\": null, \"kernel_constraint\": null, \"bias_constraint\": null}, \"name\": \"conv2d\", \"inbound_nodes\": [[[\"input_1\", 0, 0, {}]]]}, {\"class_name\": \"MaxPooling2D\", \"config\": {\"name\": \"max_pooling2d\", \"trainable\": true, \"dtype\": \"float32\", \"pool_size\": [2, 2], \"padding\": \"valid\", \"strides\": [2, 2], \"data_format\": \"channels_last\"}, \"name\": \"max_pooling2d\", \"inbound_nodes\": [[[\"conv2d\", 0, 0, {}]]]}, {\"class_name\": \"Conv2D\", \"config\": {\"name\": \"conv2d_1\", \"trainable\": true, \"dtype\": \"float32\", \"filters\": 32, \"kernel_size\": [3, 3], \"strides\": [1, 1], \"padding\": \"valid\", \"data_format\": \"channels_last\", \"dilation_rate\": [1, 1], \"groups\": 1, \"activation\": \"relu\", \"use_bias\": true, \"kernel_initializer\": {\"module\": \"keras.initializers\", \"class_name\": \"GlorotUniform\", \"config\": {\"seed\": null}, \"registered_name\": null}, \"bias_initializer\": {\"module\": \"keras.initializers\", \"class_name\": \"Zeros\", \"config\": {}, \"registered_name\": null}, \"kernel_regularizer\": null, \"bias_regularizer\": null, \"activity_regularizer\": null, \"kernel_constraint\": null, \"bias_constraint\": null}, \"name\": \"conv2d_1\", \"inbound_nodes\": [[[\"max_pooling2d\", 0, 0, {}]]]}, {\"class_name\": \"MaxPooling2D\", \"config\": {\"name\": \"max_pooling2d_1\", \"trainable\": true, \"dtype\": \"float32\", \"pool_size\": [2, 2], \"padding\": \"valid\", \"strides\": [2, 2], \"data_format\": \"channels_last\"}, \"name\": \"max_pooling2d_1\", \"inbound_nodes\": [[[\"conv2d_1\", 0, 0, {}]]]}, {\"class_name\": \"Dropout\", \"config\": {\"name\": \"dropout\", \"trainable\": true, \"dtype\": \"float32\", \"rate\": 0.2, \"noise_shape\": null, \"seed\": null}, \"name\": \"dropout\", \"inbound_nodes\": [[[\"max_pooling2d_1\", 0, 0, {}]]]}, {\"class_name\": \"Flatten\", \"config\": {\"name\": \"flatten\", \"trainable\": true, \"dtype\": \"float32\", \"data_format\": \"channels_last\"}, \"name\": \"flatten\", \"inbound_nodes\": [[[\"dropout\", 0, 0, {}]]]}, {\"class_name\": \"Dense\", \"config\": {\"name\": \"dense\", \"trainable\": true, \"dtype\": \"float32\", \"units\": 64, \"activation\": \"relu\", \"use_bias\": true, \"kernel_initializer\": {\"module\": \"keras.initializers\", \"class_name\": \"GlorotUniform\", \"config\": {\"seed\": null}, \"registered_name\": null}, \"bias_initializer\": {\"module\": \"keras.initializers\", \"class_name\": \"Zeros\", \"config\": {}, \"registered_name\": null}, \"kernel_regularizer\": null, \"bias_regularizer\": null, \"activity_regularizer\": null, \"kernel_constraint\": null, \"bias_constraint\": null}, \"name\": \"dense\", \"inbound_nodes\": [[[\"flatten\", 0, 0, {}]]]}, {\"class_name\": \"Dense\", \"config\": {\"name\": \"dense_1\", \"trainable\": true, \"dtype\": \"float32\", \"units\": 36, \"activation\": \"softmax\", \"use_bias\": true, \"kernel_initializer\": {\"module\": \"keras.initializers\", \"class_name\": \"GlorotUniform\", \"config\": {\"seed\": null}, \"registered_name\": null}, \"bias_initializer\": {\"module\": \"keras.initializers\", \"class_name\": \"Zeros\", \"config\": {}, \"registered_name\": null}, \"kernel_regularizer\": null, \"bias_regularizer\": null, \"activity_regularizer\": null, \"kernel_constraint\": null, \"bias_constraint\": null}, \"name\": \"dense_1\", \"inbound_nodes\": [[[\"dense\", 0, 0, {}]]]}], \"input_layers\": [[\"input_1\", 0, 0]], \"output_layers\": [[\"dense_1\", 0, 0]]}}, \"training_config\": {\"loss\": {\"class_name\": \"SparseCategoricalCrossentropy\", \"config\": {\"reduction\": \"auto\", \"name\": \"sparse_categorical_crossentropy\", \"from_logits\": false, \"ignore_class\": null, \"fn\": \"sparse_categorical_crossentropy\"}}, \"metrics\": [[{\"class_name\": \"MeanMetricWrapper\", \"config\": {\"name\": \"accuracy\", \"dtype\": \"float32\", \"fn\": \"sparse_categorical_accuracy\"}}]], \"weighted_metrics\": null, \"loss_weights\": null, \"optimizer_config\": {\"class_name\": \"Custom>Adam\", \"config\": {\"name\": \"Adam\", \"weight_decay\": null, \"clipnorm\": null, \"global_clipnorm\": null, \"clipvalue\": null, \"use_ema\": false, \"ema_momentum\": 0.99, \"ema_overwrite_frequency\": null, \"jit_compile\": true, \"is_legacy_optimizer\": false, \"learning_rate\": 9.999999747378752e-05, \"beta_1\": 0.9, \"beta_2\": 0.999, \"epsilon\": 1e-07, \"amsgrad\": false}}}}, \"weightsManifest\": [{\"paths\": [\"group1-shard1of1.bin\"], \"weights\": [{\"name\": \"conv2d/kernel\", \"shape\": [3, 3, 1, 16], \"dtype\": \"float32\"}, {\"name\": \"conv2d/bias\", \"shape\": [16], \"dtype\": \"float32\"}, {\"name\": \"conv2d_1/kernel\", \"shape\": [3, 3, 16, 32], \"dtype\": \"float32\"}, {\"name\": \"conv2d_1/bias\", \"shape\": [32], \"dtype\": \"float32\"}, {\"name\": \"dense/kernel\", \"shape\": [800, 64], \"dtype\": \"float32\"}, {\"name\": \"dense/bias\", \"shape\": [64], \"dtype\": \"float32\"}, {\"name\": \"dense_1/kernel\", \"shape\": [64, 36], \"dtype\": \"float32\"}, {\"name\": \"dense_1/bias\", \"shape\": [36], \"dtype\": \"float32\"}]}]}"
     ]
    }
   ],
   "source": [
    "!cat /kaggle/working/tfjs_model/model.json"
   ]
  },
  {
   "cell_type": "markdown",
   "metadata": {},
   "source": [
    "# References\n",
    "\n"
   ]
  }
 ],
 "metadata": {
  "kaggle": {
   "accelerator": "nvidiaTeslaT4",
   "dataSources": [
    {
     "datasetId": 9726,
     "sourceId": 17999,
     "sourceType": "datasetVersion"
    }
   ],
   "dockerImageVersionId": 30635,
   "isGpuEnabled": true,
   "isInternetEnabled": true,
   "language": "python",
   "sourceType": "notebook"
  },
  "kernelspec": {
   "display_name": "Python 3",
   "language": "python",
   "name": "python3"
  },
  "language_info": {
   "codemirror_mode": {
    "name": "ipython",
    "version": 3
   },
   "file_extension": ".py",
   "mimetype": "text/x-python",
   "name": "python",
   "nbconvert_exporter": "python",
   "pygments_lexer": "ipython3",
   "version": "3.12.8"
  }
 },
 "nbformat": 4,
 "nbformat_minor": 4
}
